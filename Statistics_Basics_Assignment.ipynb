{
  "nbformat": 4,
  "nbformat_minor": 0,
  "metadata": {
    "colab": {
      "provenance": []
    },
    "kernelspec": {
      "name": "python3",
      "display_name": "Python 3"
    },
    "language_info": {
      "name": "python"
    }
  },
  "cells": [
    {
      "cell_type": "markdown",
      "source": [
        "#    Statistics Basics - Assignment"
      ],
      "metadata": {
        "id": "OOrfCdWCsg83"
      }
    },
    {
      "cell_type": "markdown",
      "source": [
        "Question 1: What is the difference between descriptive statistics and inferential statistics? Explain with examples.\n",
        "\n",
        "Answer:\n",
        "Descriptive statistics summarize and describe the main features of a dataset. Examples include measures like mean, median, mode, standard deviation, and charts like histograms or pie charts.\n",
        "Example: Analyzing average test scores of a class.\n",
        "Inferential statistics involve making predictions or generalizations about a population based on a sample. It uses probability theory and includes techniques like hypothesis testing, confidence intervals, and regression analysis.\n",
        "Example: Predicting election results based on a sample survey.\n"
      ],
      "metadata": {
        "id": "lTQFG-kxtucF"
      }
    },
    {
      "cell_type": "markdown",
      "source": [
        "Question 2: What is sampling in statistics? Explain the differences between random and stratified sampling.\n",
        "\n",
        "Answer:\n",
        "Sampling is the process of selecting a subset of individuals from a population to estimate characteristics of the whole population.\n",
        "Random Sampling: Every individual has an equal chance of being selected.\n",
        "\n",
        "Example: Drawing names from a hat.\n",
        "\n",
        "Stratified Sampling: Population is divided into groups (strata) based on characteristics, and samples are taken from each group.\n",
        "\n",
        "Example: Sampling students from different departments in a college.\n"
      ],
      "metadata": {
        "id": "llVMZazutuKg"
      }
    },
    {
      "cell_type": "markdown",
      "source": [
        "Question 3: Define mean, median, and mode. Explain why these measures of central tendency are important.\n",
        "\n",
        "Answer:\n",
        "Mean: The average value of a dataset.\n",
        "\n",
        "\n",
        "Median: The middle value when data is sorted.\n",
        "\n",
        "\n",
        "Mode: The most frequently occurring value.\n",
        "\n",
        "\n",
        "Importance:\n",
        " These measures summarize a dataset and help understand where the data is centered, aiding comparison and decision-making.\n"
      ],
      "metadata": {
        "id": "0gOFg339tuCY"
      }
    },
    {
      "cell_type": "markdown",
      "source": [
        "Question 4: Explain skewness and kurtosis. What does a positive skew imply about the data?\n",
        "\n",
        "Answer:\n",
        "Skewness measures asymmetry of the data.\n",
        "\n",
        "Positive skew indicates a longer tail on the right side, meaning more low values and a few very high values.\n",
        "Kurtosis measures the \"tailedness\" or peakedness.\n",
        "\n",
        "High kurtosis: Heavy tails and outliers.\n",
        "\n",
        "Low kurtosis: Light tails, fewer outliers.\n"
      ],
      "metadata": {
        "id": "VGjoX20kttzD"
      }
    },
    {
      "cell_type": "markdown",
      "source": [
        "Question 5: Implement a Python program to compute the mean, median, and mode of a given list of numbers.\n",
        "\n",
        "numbers = [12, 15, 12, 18, 19, 12, 20, 22, 19, 19, 24, 24, 24, 26, 28]\n"
      ],
      "metadata": {
        "id": "QvS3b8cDttWK"
      }
    },
    {
      "cell_type": "code",
      "execution_count": 1,
      "metadata": {
        "colab": {
          "base_uri": "https://localhost:8080/"
        },
        "id": "wx8X5rFlsWyj",
        "outputId": "3a5ebc68-90a7-4abb-ac4d-8927fb30af2e"
      },
      "outputs": [
        {
          "output_type": "stream",
          "name": "stdout",
          "text": [
            "Mean: 19.6\n",
            "Median: 19\n",
            "Mode: 12\n"
          ]
        }
      ],
      "source": [
        "import statistics\n",
        "\n",
        "numbers = [12, 15, 12, 18, 19, 12, 20, 22, 19, 19, 24, 24, 24, 26, 28]\n",
        "\n",
        "mean = statistics.mean(numbers)\n",
        "median = statistics.median(numbers)\n",
        "mode = statistics.mode(numbers)\n",
        "\n",
        "print(\"Mean:\", mean)\n",
        "print(\"Median:\", median)\n",
        "print(\"Mode:\", mode)\n"
      ]
    },
    {
      "cell_type": "markdown",
      "source": [
        "Question 6:: Compute the covariance and correlation coefficient between the following two datasets provided as lists in Python:\n",
        " list_x = [10, 20, 30, 40, 50] list_y = [15, 25, 35, 45, 60]\n"
      ],
      "metadata": {
        "id": "gI7t7q1YwmQc"
      }
    },
    {
      "cell_type": "code",
      "source": [
        "import numpy as np\n",
        "\n",
        "list_x = [10, 20, 30, 40, 50]\n",
        "list_y = [15, 25, 35, 45, 60]\n",
        "\n",
        "covariance = np.cov(list_x, list_y, bias=True)[0][1]\n",
        "correlation = np.corrcoef(list_x, list_y)[0][1]\n",
        "\n",
        "print(\"Covariance:\", covariance)\n",
        "print(\"Correlation:\", correlation)\n"
      ],
      "metadata": {
        "colab": {
          "base_uri": "https://localhost:8080/"
        },
        "id": "fi69OPc9wCEt",
        "outputId": "b2aa0797-b536-4a07-9d8c-7ff2945fc6cd"
      },
      "execution_count": 2,
      "outputs": [
        {
          "output_type": "stream",
          "name": "stdout",
          "text": [
            "Covariance: 220.0\n",
            "Correlation: 0.995893206467704\n"
          ]
        }
      ]
    },
    {
      "cell_type": "markdown",
      "source": [
        "Question 7: Write a Python script to draw a boxplot for the following numeric list and identify its outliers. Explain the result:\n",
        "data = [12, 14, 14, 15, 18, 19, 19, 21, 22, 22, 23, 23, 24, 26, 29, 35]\n"
      ],
      "metadata": {
        "id": "9RNkzeJfwwyf"
      }
    },
    {
      "cell_type": "code",
      "source": [
        "import matplotlib.pyplot as plt\n",
        "\n",
        "data = [12, 14, 14, 15, 18, 19, 19, 21, 22, 22, 23, 23, 24, 26, 29, 35]\n",
        "\n",
        "plt.boxplot(data)\n",
        "plt.title(\"Boxplot of Data\")\n",
        "plt.ylabel(\"Values\")\n",
        "plt.show()\n"
      ],
      "metadata": {
        "colab": {
          "base_uri": "https://localhost:8080/",
          "height": 452
        },
        "id": "eyYqee6xwtkN",
        "outputId": "779cbd52-ba50-4616-f0ba-7fe6920b095e"
      },
      "execution_count": 3,
      "outputs": [
        {
          "output_type": "display_data",
          "data": {
            "text/plain": [
              "<Figure size 640x480 with 1 Axes>"
            ],
            "image/png": "[encoded data removed]"
          },
          "metadata": {}
        }
      ]
    },
    {
      "cell_type": "markdown",
      "source": [
        " Question 8:You are working as a data analyst in an e-commerce company. The marketing team wants to know if there is a relationship between advertising spend and daily sales. ● Explain how you would use covariance and correlation to explore this relationship. ● Write Python code to compute the correlation between the two lists:\n",
        "advertising_spend = [200, 250, 300, 400, 500] daily_sales = [2200, 2450, 2750, 3200, 4000]\n"
      ],
      "metadata": {
        "id": "L-5ZYwqlw-IU"
      }
    },
    {
      "cell_type": "markdown",
      "source": [
        "Answer:\n",
        "Covariance shows direction of relationship.\n",
        "\n",
        "Correlation shows strength and direction (range from -1 to 1).\n"
      ],
      "metadata": {
        "id": "Ita8vehRxPHW"
      }
    },
    {
      "cell_type": "code",
      "source": [
        "import numpy as np\n",
        "\n",
        "advertising_spend = [200, 250, 300, 400, 500]\n",
        "daily_sales = [2200, 2450, 2750, 3200, 4000]\n",
        "\n",
        "cov = np.cov(advertising_spend, daily_sales, bias=True)[0][1]\n",
        "corr = np.corrcoef(advertising_spend, daily_sales)[0][1]\n",
        "\n",
        "print(\"Covariance:\", cov)\n",
        "print(\"Correlation:\", corr)\n"
      ],
      "metadata": {
        "colab": {
          "base_uri": "https://localhost:8080/"
        },
        "id": "sg_adMMfwz9C",
        "outputId": "b3277851-a8cd-46d8-e9f9-1bfed4e29c83"
      },
      "execution_count": 4,
      "outputs": [
        {
          "output_type": "stream",
          "name": "stdout",
          "text": [
            "Covariance: 67900.0\n",
            "Correlation: 0.9935824101653329\n"
          ]
        }
      ]
    },
    {
      "cell_type": "markdown",
      "source": [
        "Question 9: Your team has collected customer satisfaction survey data on a scale of 1-10 and wants to understand its distribution before launching a new product. ● Explain which summary statistics and visualizations (e.g. mean, standard deviation, histogram) you’d use. ● Write Python code to create a histogram using Matplotlib for the survey data:\n",
        "survey_scores = [7, 8, 5, 9, 6, 7, 8, 9, 10, 4, 7, 6, 9, 8, 7]\n"
      ],
      "metadata": {
        "id": "AiDweoHxxepQ"
      }
    },
    {
      "cell_type": "markdown",
      "source": [
        "Answer: Summary statistics: Mean, Median, Mode, Standard Deviation                        \n",
        "\n",
        "Visualization: Histogram, Boxplot\n"
      ],
      "metadata": {
        "id": "tW2piRLYxjZa"
      }
    },
    {
      "cell_type": "code",
      "source": [
        "import matplotlib.pyplot as plt\n",
        "import statistics\n",
        "\n",
        "survey_scores = [7, 8, 5, 9, 6, 7, 8, 9, 10, 4, 7, 6, 9, 8, 7]\n",
        "\n",
        "print(\"Mean:\", statistics.mean(survey_scores))\n",
        "print(\"Standard Deviation:\", statistics.stdev(survey_scores))\n",
        "\n",
        "plt.hist(survey_scores, bins=6, edgecolor='black')\n",
        "plt.title(\"Histogram of Survey Scores\")\n",
        "plt.xlabel(\"Scores\")\n",
        "plt.ylabel(\"Frequency\")\n",
        "plt.show()\n",
        "\n"
      ],
      "metadata": {
        "colab": {
          "base_uri": "https://localhost:8080/",
          "height": 507
        },
        "id": "RLllWfCgxWep",
        "outputId": "5fa0a361-dc8d-4b43-c958-06945fa737d7"
      },
      "execution_count": 5,
      "outputs": [
        {
          "output_type": "stream",
          "name": "stdout",
          "text": [
            "Mean: 7.333333333333333\n",
            "Standard Deviation: 1.632993161855452\n"
          ]
        },
        {
          "output_type": "display_data",
          "data": {
            "text/plain": [
              "<Figure size 640x480 with 1 Axes>"
            ],
            "image/png": "[encoded data removed]"
          },
          "metadata": {}
        }
      ]
    },
    {
      "cell_type": "code",
      "source": [],
      "metadata": {
        "id": "5PZmZjLnxvvo"
      },
      "execution_count": null,
      "outputs": []
    }
  ]
}